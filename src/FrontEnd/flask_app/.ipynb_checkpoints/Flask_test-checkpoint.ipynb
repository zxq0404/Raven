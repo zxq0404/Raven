{
 "cells": [
  {
   "cell_type": "code",
   "execution_count": 1,
   "metadata": {
    "collapsed": true
   },
   "outputs": [],
   "source": [
    "from flask import Flask, render_template, send_file, Response\n",
    "import base64, zmq\n",
    "import time\n",
    "import cv2\n",
    "import numpy as np\n",
    "import urllib\n",
    "\n",
    "from bokeh.plotting import figure, show\n",
    "from bokeh.io import output_notebook\n",
    "from bokeh.embed import components\n",
    "from bokeh.models import ColumnDataSource"
   ]
  },
  {
   "cell_type": "code",
   "execution_count": 2,
   "metadata": {
    "collapsed": true
   },
   "outputs": [],
   "source": [
    "IPcameras = {}\n",
    "IPcameras[\"Gallup@NM\"] = \"http://207.192.232.2:8000/mjpg/video.mjpg?timestamp=1548280479340\"\n",
    "IPcameras[\"Agua Fria@NM\"] = \"http://166.241.180.137/mjpg/video.mjpg?timestamp=1548281679736\"\n",
    "IPcameras[\"Bolton@CT\"] = \"http://166.248.11.128/mjpg/video.mjpg?timestamp=1548281838022\"\n",
    "IPcameras[\"El Paso@TX\"] = \"http://209.194.208.53/mjpg/video.mjpg?timestamp=1548281942187\"\n",
    "IPcameras[\"Jamestown@ND\"]= \"http://64.77.205.67/mjpg/video.mjpg\"\n",
    "IPcameras[\"Newark@NY\"] = \"http://166.140.227.198/mjpg/video.mjpg?timestamp=1548369639459\"\n",
    "IPcameras[\"Brighton@MA\"] = \"http://128.197.128.161/mjpg/video.mjpg\"\n",
    "IPcameras[\"KL@Malaysia\"] = \"http://58.26.96.56/mjpg/video.mjpg\"\n",
    "IPcameras[\"Taegu@Korea\"] = \"http://220.73.58.90/mjpg/video.mjpg\"\n",
    "IPcameras[\"Newark2@NY\"] = \"http://108.53.114.166/mjpg/video.mjpg\"\n",
    "IPcameras[\"Louisville@KY\"] = \"http://74.142.179.46:81/mjpg/video.mjpg?timestamp=1548535207899\"\n",
    "IPcameras[\"Richmond@VA\"] = \"http://50.73.9.194/mjpg/video.mjpg\"\n",
    "IPcameras[\"Rancho@CA\"] =\"http://166.165.58.225/mjpg/video.mjpg?timestamp=1548608344038\"\n",
    "IPcameras[\"Fayetteville@NC\"] = \"http://65.40.167.160/mjpg/video.mjpg\"\n",
    "IPcameras[\"Newyork\"] = \"http://67.77.134.186:8001/mjpg/video.mjpg\"\n",
    "IPcameras[\"SanJose@CA\"] = \"http://50.252.187.219/mjpg/video.mjpg?timestamp=1548704853592\"\n"
   ]
  },
  {
   "cell_type": "code",
   "execution_count": 3,
   "metadata": {
    "collapsed": true
   },
   "outputs": [],
   "source": [
    "def bubble_insert(array, number):\n",
    "# Insert a new number into the numpy array.\n",
    "    i = 0\n",
    "    pop_num = array[-1]\n",
    "    while number<array[i] and i<len(array):\n",
    "        i+=1\n",
    "    array[i+1:] = array[i:-1]\n",
    "    array[i]=number\n",
    "\n",
    "    return pop_num\n",
    "\n",
    "class Dory:\n",
    "# A very lightweight prototype database in memory. Named after Dolly the goldfish with very short memory.\n",
    "    def __init__(self, maxsize = 10):\n",
    "        self.limit = maxsize\n",
    "        self.record = dict()\n",
    "# A buffer that saves the data. We want it to maintain a order sorted by the \"counter\" key \n",
    "# but don't want to sort the dictionary every time. The maximum number of the dictionary is \"maxsize\".\n",
    "        self.bookkeeper =dict()\n",
    "        self.output = [None]*3\n",
    "\n",
    "# A dictionary that keeps track of the order of the buffer dictionary items.\n",
    "    \n",
    "    def look(self, meta_data, message):\n",
    "        print(meta_data)\n",
    "        try:\n",
    "            camera_name = meta_data[\"camera\"]\n",
    "            timestamp = float(meta_data[\"time\"])\n",
    "            counter = int(meta_data[\"counter\"])\n",
    "            boxes = meta_data[\"boxes\"]\n",
    "            if camera_name not in self.record:\n",
    "                self.record[camera_name] ={counter:[timestamp, boxes, message]}\n",
    "                self.bookkeeper[camera_name] = np.zeros(self.limit)\n",
    "                self.bookkeeper[camera_name][0]=counter\n",
    "                pop_num=0\n",
    "            else:\n",
    "                self.record(camera_name)[counter] = [timestamp, boxes, message]\n",
    "                pop_num = bubble_insert(self.bookkeeper[camera_name],counter)\n",
    "                if not pop_num:\n",
    "                    self.output = self.record(camera_name)[pop_num]\n",
    "                    self.record(camera_name).pop(pop_num)\n",
    "        except:\n",
    "            print(\"Error occurred during operation\")\n",
    "        return pop_num\n",
    "    \n",
    "        def count(self):\n",
    "# check the current memory, count the number of cars.\n",
    "            pass\n",
    "            \n"
   ]
  },
  {
   "cell_type": "code",
   "execution_count": 4,
   "metadata": {
    "collapsed": true
   },
   "outputs": [],
   "source": [
    "dummy = open(\"/Users/Xiaoqing/Insight/CV2capture/Received/SanJose_CA_1.jpg\",\"rb\").read()\n",
    "\n",
    "#IP = \"tcp://18.232.52.148:5558\"\n",
    "IP=\"tcp://35.175.180.11:5558\"\n",
    "#        print('consumer started...Ingest images from ', IP)\n",
    "context = zmq.Context()\n",
    "    # recieve work\n",
    "consumer_receiver = context.socket(zmq.PULL)\n",
    "consumer_receiver.connect(IP)\n",
    "     \n",
    "            \n",
    "def dory_work(camera):\n",
    "# Check if the incoming frame come from the camera the user requested. If not, don't show it.\n",
    "    dory1 = Dory()\n",
    "    img_bytes = dummy\n",
    "\n",
    "    while True:\n",
    "        meta_data = consumer_receiver.recv_json()\n",
    "        message = consumer_receiver.recv()\n",
    "        pop_num = dory1.look(meta_data, message)\n",
    "        if meta_data[\"camera\"]==camera:\n",
    "            timestamp, boxes, message = dory1.output\n",
    "            if message is not None:\n",
    "                buffer = base64.b64decode(message)\n",
    "            # html can directly read the buffer as image.\n",
    "                img = cv2.imdecode(np.frombuffer(buffer, np.uint8),cv2.IMREAD_ANYCOLOR)\n",
    "                overlay_boxes(boxes,img)\n",
    "            # return to buffer if not modified.\n",
    "                img_bytes = cv2.imencode('.jpg',img)[1].tobytes()\n",
    "   #     boxes = meta_data['boxes']\n",
    "    #    img = cv2.imdecode(np.frombuffer(buffer, np.uint8),cv2.IMREAD_ANYCOLOR)\n",
    "    #    overlay_boxes(boxes,img)\n",
    "    #    img_bytes = cv2.imencode('.jpg',img)[1].tobytes()\n",
    "        yield bytes2display(img_bytes)\n",
    "        \n",
    "def work2(camera, dory = Dory(), img_bytes = dummy):\n",
    "# Check if the incoming frame come from the camera the user requested. If not, don't show it.\n",
    " #   dory1 = Dory()\n",
    "  #  img_bytes = dummy\n",
    "\n",
    "    meta_data = consumer_receiver.recv_json()\n",
    "    message = consumer_receiver.recv()\n",
    "    pop_num = dory1.look(meta_data, message)\n",
    "    if meta_data[\"camera\"]==camera:\n",
    "        timestamp, boxes, message = dolly.output\n",
    "        buffer = base64.b64decode(message)\n",
    "        img = cv2.imdecode(np.frombuffer(buffer, np.uint8),cv2.IMREAD_ANYCOLOR)\n",
    "        overlay_boxes(boxes,img)\n",
    "        img_bytes = cv2.imencode('.jpg',img)[1].tobytes()\n",
    "   #     boxes = meta_data['boxes']\n",
    "    #    img = cv2.imdecode(np.frombuffer(buffer, np.uint8),cv2.IMREAD_ANYCOLOR)\n",
    "    #    overlay_boxes(boxes,img)\n",
    "    #    img_bytes = cv2.imencode('.jpg',img)[1].tobytes()\n",
    "    return bytes2display(img_bytes), float(timestamp), len(boxes)\n",
    "        \n",
    "\n",
    "def bytes2display(buffer):\n",
    "    return (b'--frame\\r\\n'+b'Content-Type: image/jpeg\\r\\n\\r\\n' + buffer + b'\\r\\n') \n",
    "    \n",
    "def overlay_boxes(boxes,image):\n",
    "# Overlay the detected box on the image. It directly modifies the raw images\n",
    "# so it should only be used for showing the graph.\n",
    "    for box in boxes:\n",
    "        x1, y1, x2, y2 = box[:4]\n",
    "        x1, y1, x2, y2 = int(x1),int(y1),int(x2),int(y2)\n",
    "        image[x1:x1+4,y1:y2+1,:] =0\n",
    "        image[x2:x2+4,y1:y2+1,:] =0\n",
    "        image[x1:x2+1,y1:y1+4,:] =0\n",
    "        image[x1:x2+1,y2:y2+4,:] = 0\n",
    "        image[x1:x1+4,y1:y2+1,0] = 255\n",
    "        image[x2:x2+4,y1:y2+1,0] = 255\n",
    "        image[x1:x2+1,y1:y1+4,0] = 255\n",
    "        image[x1:x2+1,y2:y2+4,0] = 255\n"
   ]
  },
  {
   "cell_type": "code",
   "execution_count": 5,
   "metadata": {
    "collapsed": true
   },
   "outputs": [],
   "source": [
    "def make_plot():\n",
    "    x=[88,99,100]\n",
    "    y=[88,99,100]\n",
    "    source = ColumnDataSource(dict(x=x, y=y))\n",
    "    plot = figure(plot_height=200,plot_width = 400)\n",
    "    plot.line('x', 'y', source=source)\n",
    "    temp=100\n",
    "    while True:\n",
    "        temp+= 1\n",
    "        x.append(temp)\n",
    "        y.append(temp*2)\n",
    "        source.data=dict(x=x, y=y)\n",
    "#        return components(plot)\n",
    "        bokeh_plot =components(plot)\n",
    "        yield bokeh_plot\n"
   ]
  },
  {
   "cell_type": "code",
   "execution_count": 5,
   "metadata": {
    "collapsed": true
   },
   "outputs": [],
   "source": [
    "def my_render():\n",
    "    yield render_template('showimage2.html', img_data = urllib.parse.quote(base64.b64encode(dummy)))\n",
    "    while True:\n",
    "        meta_data = consumer_receiver.recv_json()\n",
    "        message = consumer_receiver.recv()\n",
    "        camera_name = meta_data[\"camera\"]\n",
    "        timestamp = float(meta_data[\"time\"])\n",
    "        counter = int(meta_data[\"counter\"])\n",
    "        boxes = meta_data[\"boxes\"]\n",
    "        yield render_template('showimage2.html', img_data = urllib.parse.quote(message))\n",
    "\n",
    "def work():\n",
    "     while True:\n",
    "        meta_data = consumer_receiver.recv_json()\n",
    "        message = consumer_receiver.recv()\n",
    "        camera_name = meta_data[\"camera\"]\n",
    "        timestamp = float(meta_data[\"time\"])\n",
    "        counter = int(meta_data[\"counter\"])\n",
    "        boxes = meta_data[\"boxes\"]\n",
    "        \n",
    "        buffer = base64.b64decode(message)\n",
    "        img = cv2.imdecode(np.frombuffer(buffer, np.uint8),cv2.IMREAD_ANYCOLOR)\n",
    "        overlay_boxes(boxes,img)\n",
    "        img_bytes = cv2.imencode('.jpg',img)[1].tobytes()\n",
    "        \n",
    "        yield bytes2display(img_bytes)"
   ]
  },
  {
   "cell_type": "code",
   "execution_count": 5,
   "metadata": {
    "collapsed": true
   },
   "outputs": [],
   "source": [
    "app = Flask(__name__)\n",
    "#app.jinja_env.filters['b64d'] = lambda u: base64.b64encode(u).decode()\n",
    "\n",
    "@app.route('/')\n",
    "def index():\n",
    "#    return Response(my_render())\n",
    "    return render_template('showimage.html')\n",
    "#    return render_template('showimage2.html', img_data = urllib.parse.quote(buffer))\n",
    "\n",
    "\n",
    "    \n",
    "@app.route('/video_feed')\n",
    "def video_feed():\n",
    "    camera = 'KL_Malaysia'\n",
    "    return Response(work(),mimetype='multipart/x-mixed-replace; boundary=frame')\n",
    " #   return Response(bytes2display(dummy),mimetype='multipart/x-mixed-replace; boundary=frame')\n",
    "  #  return render_template(\"showimage.html\",user_image=gen2(test))\n",
    "\n",
    "\n",
    "#@app.route('/bokeh_feed1')\n",
    "#def bokeh_feed():\n",
    "#    return Response(stream_with_context(make_plot()))\n",
    "#def display_image():\n",
    "#    full_filename = \"static/SanJose_CA_1.jpg\"\n",
    "#    return render_template(\"index.html\",user_image=full_filename)\n",
    "\n"
   ]
  },
  {
   "cell_type": "code",
   "execution_count": null,
   "metadata": {
    "collapsed": true
   },
   "outputs": [],
   "source": []
  },
  {
   "cell_type": "code",
   "execution_count": null,
   "metadata": {
    "collapsed": true
   },
   "outputs": [],
   "source": []
  },
  {
   "cell_type": "code",
   "execution_count": 7,
   "metadata": {
    "collapsed": true
   },
   "outputs": [],
   "source": []
  },
  {
   "cell_type": "code",
   "execution_count": null,
   "metadata": {},
   "outputs": [
    {
     "name": "stderr",
     "output_type": "stream",
     "text": [
      " * Running on http://127.0.0.1:5000/ (Press CTRL+C to quit)\n"
     ]
    }
   ],
   "source": [
    "app.run()"
   ]
  },
  {
   "cell_type": "code",
   "execution_count": 6,
   "metadata": {},
   "outputs": [
    {
     "data": {
      "text/plain": [
       "<Response streamed [200 OK]>"
      ]
     },
     "execution_count": 6,
     "metadata": {},
     "output_type": "execute_result"
    }
   ],
   "source": [
    "Response(make_plot(),mimetype='text/csv')"
   ]
  },
  {
   "cell_type": "markdown",
   "metadata": {},
   "source": [
    "## Webserver"
   ]
  },
  {
   "cell_type": "code",
   "execution_count": null,
   "metadata": {},
   "outputs": [
    {
     "name": "stderr",
     "output_type": "stream",
     "text": [
      "Error in connection handler\n",
      "Traceback (most recent call last):\n",
      "  File \"/Users/Xiaoqing/anaconda/lib/python3.6/site-packages/websockets/server.py\", line 169, in handler\n",
      "    yield from self.ws_handler(self, path)\n",
      "  File \"<ipython-input-5-98909d552b01>\", line 32, in trigger\n",
      "    await websocket.send(json.dumps(message))\n",
      "  File \"/Users/Xiaoqing/anaconda/lib/python3.6/site-packages/websockets/protocol.py\", line 462, in send\n",
      "    yield from self.ensure_open()\n",
      "  File \"/Users/Xiaoqing/anaconda/lib/python3.6/site-packages/websockets/protocol.py\", line 646, in ensure_open\n",
      "    ) from self.transfer_data_exc\n",
      "websockets.exceptions.ConnectionClosed: WebSocket connection is closed: code = 1001 (going away), no reason\n"
     ]
    }
   ],
   "source": [
    "from itertools import cycle\n",
    "import asyncio\n",
    "import base64\n",
    "import datetime\n",
    "import json\n",
    "import random\n",
    "import websockets\n",
    "\n",
    "start = time.time()\n",
    "\n",
    "\n",
    "async def trigger(websocket, path):\n",
    "    while True:\n",
    "        meta_data = consumer_receiver.recv_json()\n",
    "        img_msg = consumer_receiver.recv()\n",
    "        camera_name = meta_data[\"camera\"]\n",
    "        timestamp = float(meta_data[\"time\"])-start\n",
    "        counter = int(meta_data[\"counter\"])\n",
    "        boxes = meta_data[\"boxes\"]\n",
    "        \n",
    "        buffer = base64.b64decode(img_msg)\n",
    "        img = cv2.imdecode(np.frombuffer(buffer, np.uint8),cv2.IMREAD_ANYCOLOR)\n",
    "        overlay_boxes(boxes,img)\n",
    "        img_bytes = base64.b64encode(cv2.imencode('.jpg',img)[1].tobytes())\n",
    "        img_bytes=urllib.parse.quote(img_bytes)\n",
    "        message = {          \n",
    "            \"img_b64\": img_bytes,\n",
    "            \"counter\": counter,\n",
    "            \"timestamp\":timestamp,\n",
    "            \"boxnum\": len(boxes)\n",
    "        }\n",
    "        await websocket.send(json.dumps(message))\n",
    "        await asyncio.sleep(0.05)\n",
    "\n",
    "start_server = websockets.serve(trigger, '127.0.0.1', 5678)\n",
    "\n",
    "asyncio.get_event_loop().run_until_complete(start_server)\n",
    "asyncio.get_event_loop().run_forever()"
   ]
  },
  {
   "cell_type": "code",
   "execution_count": null,
   "metadata": {
    "collapsed": true
   },
   "outputs": [],
   "source": []
  }
 ],
 "metadata": {
  "kernelspec": {
   "display_name": "Python 3",
   "language": "python",
   "name": "python3"
  },
  "language_info": {
   "codemirror_mode": {
    "name": "ipython",
    "version": 3
   },
   "file_extension": ".py",
   "mimetype": "text/x-python",
   "name": "python",
   "nbconvert_exporter": "python",
   "pygments_lexer": "ipython3",
   "version": "3.6.8"
  }
 },
 "nbformat": 4,
 "nbformat_minor": 2
}
