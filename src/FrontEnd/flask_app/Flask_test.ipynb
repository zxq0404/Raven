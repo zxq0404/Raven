{
 "cells": [
  {
   "cell_type": "code",
   "execution_count": 1,
   "metadata": {
    "collapsed": true
   },
   "outputs": [],
   "source": [
    "from flask import Flask, render_template, send_file, Response, request, flash, stream_with_context\n",
    "import base64, zmq\n",
    "import time\n",
    "import cv2\n",
    "import numpy as np\n",
    "import urllib\n",
    "import time\n",
    "\n",
    "\n",
    "from bokeh.plotting import figure, show\n",
    "from bokeh.io import output_notebook\n",
    "from bokeh.embed import components\n",
    "from bokeh.models import ColumnDataSource"
   ]
  },
  {
   "cell_type": "code",
   "execution_count": 2,
   "metadata": {
    "collapsed": true
   },
   "outputs": [],
   "source": [
    "from itertools import cycle\n",
    "from random import shuffle\n",
    "import random\n",
    "\n",
    "\n",
    "\n",
    "def mini_shuffle(array):\n",
    "    for row in array:\n",
    "        shuffle(row)\n",
    "    return array\n",
    "\n",
    "def make_dummy(number):\n",
    "    count_dummy = np.linspace(1,4*number,4*number).reshape((number,4))\n",
    "    mini_shuffle(count_dummy)\n",
    "    time_dummy = count_dummy+0.5-np.random.random(size=(number,4))\n",
    "    count_dummy = count_dummy.flatten()\n",
    "    time_dummy = time_dummy.flatten()\n",
    "    for i in range(number*4):\n",
    "        yield count_dummy[i], time_dummy[i]\n",
    "\n",
    "def stream_sim(number):\n",
    "    gen1 = make_dummy(number)\n",
    "    gen2 = make_dummy(number)\n",
    "    meta_data = {}\n",
    "    for i in range(number*8):\n",
    "        if random.randint(0,1):\n",
    "            meta_data[\"camera\"] = \"camera_1\"\n",
    "            meta_data[\"url\"] = \"url_1\"\n",
    "            meta_data[\"counter\"], meta_data[\"timestamp\"] = next(gen1)\n",
    "            meta_data[\"boxes\"] = random.randint(0,10)\n",
    "            message = \"msg from camera 1\"\n",
    "        else:\n",
    "            meta_data[\"camera\"] = \"camera_2\"\n",
    "            meta_data[\"url\"] = \"url_2\"\n",
    "            meta_data[\"counter\"], meta_data[\"timestamp\"] = next(gen2)\n",
    "            message = \"msg from camera 2\"\n",
    "            meta_data[\"boxes\"] = random.randint(0,10)\n",
    "\n",
    "        yield meta_data, message"
   ]
  },
  {
   "cell_type": "code",
   "execution_count": 196,
   "metadata": {
    "collapsed": true
   },
   "outputs": [],
   "source": [
    "dummy = stream_sim(25)"
   ]
  },
  {
   "cell_type": "code",
   "execution_count": 197,
   "metadata": {
    "collapsed": true
   },
   "outputs": [],
   "source": [
    "dory =Dory()"
   ]
  },
  {
   "cell_type": "code",
   "execution_count": 183,
   "metadata": {
    "collapsed": true
   },
   "outputs": [],
   "source": [
    "IPcameras = {}\n",
    "IPcameras[\"Gallup@NM\"] = \"http://207.192.232.2:8000/mjpg/video.mjpg?timestamp=1548280479340\"\n",
    "IPcameras[\"Agua Fria@NM\"] = \"http://166.241.180.137/mjpg/video.mjpg?timestamp=1548281679736\"\n",
    "IPcameras[\"Bolton@CT\"] = \"http://166.248.11.128/mjpg/video.mjpg?timestamp=1548281838022\"\n",
    "IPcameras[\"El Paso@TX\"] = \"http://209.194.208.53/mjpg/video.mjpg?timestamp=1548281942187\"\n",
    "IPcameras[\"Jamestown@ND\"]= \"http://64.77.205.67/mjpg/video.mjpg\"\n",
    "IPcameras[\"Newark@NY\"] = \"http://166.140.227.198/mjpg/video.mjpg?timestamp=1548369639459\"\n",
    "IPcameras[\"Brighton@MA\"] = \"http://128.197.128.161/mjpg/video.mjpg\"\n",
    "IPcameras[\"KL@Malaysia\"] = \"http://58.26.96.56/mjpg/video.mjpg\"\n",
    "IPcameras[\"Taegu@Korea\"] = \"http://220.73.58.90/mjpg/video.mjpg\"\n",
    "IPcameras[\"Newark2@NY\"] = \"http://108.53.114.166/mjpg/video.mjpg\"\n",
    "IPcameras[\"Louisville@KY\"] = \"http://74.142.179.46:81/mjpg/video.mjpg?timestamp=1548535207899\"\n",
    "IPcameras[\"Richmond@VA\"] = \"http://50.73.9.194/mjpg/video.mjpg\"\n",
    "IPcameras[\"Rancho@CA\"] =\"http://166.165.58.225/mjpg/video.mjpg?timestamp=1548608344038\"\n",
    "IPcameras[\"Fayetteville@NC\"] = \"http://65.40.167.160/mjpg/video.mjpg\"\n",
    "IPcameras[\"Newyork\"] = \"http://67.77.134.186:8001/mjpg/video.mjpg\"\n",
    "IPcameras[\"SanJose@CA\"] = \"http://50.252.187.219/mjpg/video.mjpg?timestamp=1548704853592\"\n"
   ]
  },
  {
   "cell_type": "code",
   "execution_count": null,
   "metadata": {
    "collapsed": true
   },
   "outputs": [],
   "source": []
  },
  {
   "cell_type": "code",
   "execution_count": 4,
   "metadata": {
    "collapsed": true
   },
   "outputs": [],
   "source": [
    "from itertools import cycle\n",
    "import time\n",
    "\n",
    "def get_img_base64_str(path):\n",
    "    with open(path, \"rb\") as imgfp:\n",
    "        b64str = base64.b64encode(imgfp.read())\n",
    "    return b64str.decode()\n",
    "\n",
    "img_str0 = get_img_base64_str(\"temp/cat-1.jpeg\")\n",
    "img_strs = cycle([\n",
    "        get_img_base64_str(\"temp/cat-1.jpeg\"),\n",
    "        get_img_base64_str(\"temp/cat-2.jpeg\"),\n",
    "        get_img_base64_str(\"temp/cat-3.jpeg\")\n",
    "    ])\n",
    "\n",
    "def gentest():\n",
    "    return 0\n",
    "    \n",
    "def cat_render():\n",
    "    while True:\n",
    "        time.sleep(.5)\n",
    "        yield render_template(\"showimage2.html\", img_data=next(img_strs))"
   ]
  },
  {
   "cell_type": "code",
   "execution_count": 4,
   "metadata": {
    "collapsed": true
   },
   "outputs": [],
   "source": [
    "app = Flask(__name__)\n",
    "\n",
    "def stream_template(template_name, **context):\n",
    "    app.update_template_context(context)\n",
    "    t = app.jinja_env.get_template(template_name)\n",
    "    rv = t.stream(context)\n",
    "    rv.enable_buffering(2)\n",
    "    time.sleep(1)\n",
    "    return rv\n",
    "\n",
    "@app.route('/')\n",
    "def render_large_template():\n",
    "    return Response(stream_template('showimage2.html', img_data=img_strs))"
   ]
  },
  {
   "cell_type": "code",
   "execution_count": null,
   "metadata": {
    "collapsed": true
   },
   "outputs": [],
   "source": []
  },
  {
   "cell_type": "code",
   "execution_count": 4,
   "metadata": {
    "collapsed": true
   },
   "outputs": [],
   "source": [
    "app = Flask(__name__)\n",
    "\n",
    "@app.route('/')\n",
    "def index():\n",
    "    return Response(stream_with_context(cat_render()))\n",
    "#    return render_template('showimage.html')"
   ]
  },
  {
   "cell_type": "code",
   "execution_count": null,
   "metadata": {
    "collapsed": true
   },
   "outputs": [],
   "source": []
  },
  {
   "cell_type": "code",
   "execution_count": null,
   "metadata": {},
   "outputs": [
    {
     "name": "stderr",
     "output_type": "stream",
     "text": [
      " * Running on http://127.0.0.1:5000/ (Press CTRL+C to quit)\n",
      "127.0.0.1 - - [08/Feb/2019 17:31:27] \"\u001b[37mGET / HTTP/1.1\u001b[0m\" 200 -\n"
     ]
    }
   ],
   "source": [
    "app.run()"
   ]
  },
  {
   "cell_type": "code",
   "execution_count": 2,
   "metadata": {
    "collapsed": true
   },
   "outputs": [],
   "source": [
    "def bubble_insert(array, number):\n",
    "# Insert a new number into the numpy array.\n",
    "    i = 0\n",
    "    pop_num = array[-1]\n",
    "    while number<array[i] and i<len(array):\n",
    "        i+=1\n",
    "    array[i+1:] = array[i:-1]\n",
    "    array[i]=number\n",
    "\n",
    "    return pop_num\n",
    "\n",
    "class Dory:\n",
    "# A very lightweight prototype database in memory. Named after Dolly the goldfish with very short memory.\n",
    "    def __init__(self, maxsize = 10):\n",
    "        self.limit = maxsize\n",
    "        self.record = dict()\n",
    "# A buffer that saves the data. We want it to maintain a order sorted by the \"counter\" key \n",
    "# but don't want to sort the dictionary every time. The maximum number of the dictionary is \"maxsize\".\n",
    "        self.bookkeeper =dict()\n",
    "        self.output = [None]*3\n",
    "\n",
    "# A dictionary /that keeps track of the order of the buffer dictionary items.\n",
    "    \n",
    "    def look(self, meta_data, message):\n",
    "        try:\n",
    "            camera_name = meta_data[\"camera\"]\n",
    "            timestamp = float(meta_data[\"timestamp\"])\n",
    "            counter = int(meta_data[\"counter\"])\n",
    "            boxes = meta_data[\"boxes\"]\n",
    "            if camera_name not in self.record:\n",
    "                print(\"create new\")\n",
    "                self.record[camera_name] ={counter:[timestamp, boxes, message]}\n",
    "                self.bookkeeper[camera_name] = np.zeros(self.limit).astype(\"int\")\n",
    "                self.bookkeeper[camera_name][0]=counter\n",
    "                pop_num=0\n",
    "            else:\n",
    "                print(\"not new\")\n",
    "                self.record[camera_name][counter] = [timestamp, boxes, message]\n",
    "                pop_num = bubble_insert(self.bookkeeper[camera_name],counter)\n",
    "                print(\"pop_num is\", pop_num)\n",
    "                if pop_num>0:\n",
    "                    self.output = self.record[camera_name][pop_num]\n",
    "                    self.record[camera_name].pop(pop_num)\n",
    "        except:\n",
    "            print(\"Error occurred during operation\")\n",
    "        return pop_num\n",
    "    \n",
    "        def count(self):\n",
    "# reserved for future improvements.\n",
    "            pass\n",
    "            \n"
   ]
  },
  {
   "cell_type": "code",
   "execution_count": 3,
   "metadata": {
    "collapsed": true
   },
   "outputs": [],
   "source": [
    "dummy = open(\"/Users/Xiaoqing/Insight/CV2capture/Received/SanJose_CA_1.jpg\",\"rb\").read()\n",
    "\n",
    "#IP = \"tcp://18.232.52.148:5558\"\n",
    "#IP=\"tcp://35.175.180.11:5558\"\n",
    "IP = \"tcp://34.239.152.41:5558\"\n",
    "#        print('consumer started...Ingest images from ', IP)\n",
    "context = zmq.Context()\n",
    "    # recieve work\n",
    "consumer_receiver = context.socket(zmq.PULL)\n",
    "consumer_receiver.connect(IP)\n",
    "     \n",
    "            \n",
    "def dory_work(camera):\n",
    "# Check if the incoming frame come from the camera the user requested. If not, don't show it.\n",
    "    dory1 = Dory()\n",
    "    img_bytes = dummy\n",
    "\n",
    "    while True:\n",
    "        meta_data = consumer_receiver.recv_json()\n",
    "        message = consumer_receiver.recv()\n",
    "        pop_num = dory1.look(meta_data, message)\n",
    "        if meta_data[\"camera\"]==camera:\n",
    "            timestamp, boxes, message = dory1.output\n",
    "            if message is not None:\n",
    "                buffer = base64.b64decode(message)\n",
    "            # html can directly read the buffer as image.\n",
    "                img = cv2.imdecode(np.frombuffer(buffer, np.uint8),cv2.IMREAD_ANYCOLOR)\n",
    "                overlay_boxes(boxes,img)\n",
    "            # return to buffer if not modified.\n",
    "                img_bytes = cv2.imencode('.jpg',img)[1].tobytes()\n",
    "   #     boxes = meta_data['boxes']\n",
    "    #    img = cv2.imdecode(np.frombuffer(buffer, np.uint8),cv2.IMREAD_ANYCOLOR)\n",
    "    #    overlay_boxes(boxes,img)\n",
    "    #    img_bytes = cv2.imencode('.jpg',img)[1].tobytes()\n",
    "        yield bytes2display(img_bytes)\n",
    "        \n",
    "def work2(camera, dory = Dory(), img_bytes = dummy):\n",
    "# Check if the incoming frame come from the camera the user requested. If not, don't show it.\n",
    " #   dory1 = Dory()\n",
    "  #  img_bytes = dummy\n",
    "\n",
    "    meta_data = consumer_receiver.recv_json()\n",
    "    message = consumer_receiver.recv()\n",
    "    pop_num = dory1.look(meta_data, message)\n",
    "    if meta_data[\"camera\"]==camera:\n",
    "        timestamp, boxes, message = dolly.output\n",
    "        buffer = base64.b64decode(message)\n",
    "        img = cv2.imdecode(np.frombuffer(buffer, np.uint8),cv2.IMREAD_ANYCOLOR)\n",
    "        overlay_boxes(boxes,img)\n",
    "        img_bytes = cv2.imencode('.jpg',img)[1].tobytes()\n",
    "   #     boxes = meta_data['boxes']\n",
    "    #    img = cv2.imdecode(np.frombuffer(buffer, np.uint8),cv2.IMREAD_ANYCOLOR)\n",
    "    #    overlay_boxes(boxes,img)\n",
    "    #    img_bytes = cv2.imencode('.jpg',img)[1].tobytes()\n",
    "    return bytes2display(img_bytes), float(timestamp), len(boxes)\n",
    "        \n",
    "\n",
    "def bytes2display(buffer):\n",
    "    return (b'--frame\\r\\n'+b'Content-Type: image/jpeg\\r\\n\\r\\n' + buffer + b'\\r\\n') \n",
    "    \n",
    "def overlay_boxes(boxes,image):\n",
    "# Overlay the detected box on the image. It directly modifies the raw images\n",
    "# so it should only be used for showing the graph.\n",
    "    for box in boxes:\n",
    "        x1, y1, x2, y2 = box[:4]\n",
    "        x1, y1, x2, y2 = int(x1),int(y1),int(x2),int(y2)\n",
    "        image[x1:x1+4,y1:y2+1,:] =0\n",
    "        image[x2:x2+4,y1:y2+1,:] =0\n",
    "        image[x1:x2+1,y1:y1+4,:] =0\n",
    "        image[x1:x2+1,y2:y2+4,:] = 0\n",
    "        image[x1:x1+4,y1:y2+1,0] = 255\n",
    "        image[x2:x2+4,y1:y2+1,0] = 255\n",
    "        image[x1:x2+1,y1:y1+4,0] = 255\n",
    "        image[x1:x2+1,y2:y2+4,0] = 255\n"
   ]
  },
  {
   "cell_type": "code",
   "execution_count": 13,
   "metadata": {},
   "outputs": [
    {
     "name": "stdout",
     "output_type": "stream",
     "text": [
      "CPU times: user 18.7 ms, sys: 3.19 ms, total: 21.9 ms\n",
      "Wall time: 22.2 ms\n"
     ]
    }
   ],
   "source": [
    "%%time\n",
    "img_bytes=urllib.parse.quote(dummy)"
   ]
  },
  {
   "cell_type": "code",
   "execution_count": 5,
   "metadata": {
    "collapsed": true
   },
   "outputs": [],
   "source": [
    "def make_plot():\n",
    "    x=[88,99,100]\n",
    "    y=[88,99,100]\n",
    "    source = ColumnDataSource(dict(x=x, y=y))\n",
    "    plot = figure(plot_height=200,plot_width = 400)\n",
    "    plot.line('x', 'y', source=source)\n",
    "    temp=100\n",
    "    while True:\n",
    "        temp+= 1\n",
    "        x.append(temp)\n",
    "        y.append(temp*2)\n",
    "        source.data=dict(x=x, y=y)\n",
    "#        return components(plot)\n",
    "        bokeh_plot =components(plot)\n",
    "        yield bokeh_plot\n"
   ]
  },
  {
   "cell_type": "code",
   "execution_count": 5,
   "metadata": {
    "collapsed": true
   },
   "outputs": [],
   "source": [
    "def my_render():\n",
    "    yield render_template('showimage2.html', img_data = urllib.parse.quote(base64.b64encode(dummy)))\n",
    "    while True:\n",
    "        meta_data = consumer_receiver.recv_json()\n",
    "        message = consumer_receiver.recv()\n",
    "        camera_name = meta_data[\"camera\"]\n",
    "        timestamp = float(meta_data[\"time\"])\n",
    "        counter = int(meta_data[\"counter\"])\n",
    "        boxes = meta_data[\"boxes\"]\n",
    "        yield render_template('showimage2.html', img_data = urllib.parse.quote(message))\n",
    "\n",
    "def work():\n",
    "     while True:\n",
    "        meta_data = consumer_receiver.recv_json()\n",
    "        message = consumer_receiver.recv()\n",
    "        camera_name = meta_data[\"camera\"]\n",
    "        timestamp = float(meta_data[\"time\"])\n",
    "        counter = int(meta_data[\"counter\"])\n",
    "        boxes = meta_data[\"boxes\"]\n",
    "        \n",
    "        buffer = base64.b64decode(message)\n",
    "        img = cv2.imdecode(np.frombuffer(buffer, np.uint8),cv2.IMREAD_ANYCOLOR)\n",
    "        overlay_boxes(boxes,img)\n",
    "        img_bytes = cv2.imencode('.jpg',img)[1].tobytes()\n",
    "        \n",
    "        yield bytes2display(img_bytes)"
   ]
  },
  {
   "cell_type": "code",
   "execution_count": 4,
   "metadata": {},
   "outputs": [
    {
     "ename": "SyntaxError",
     "evalue": "invalid syntax (<ipython-input-4-b2a3c48ee1b4>, line 13)",
     "output_type": "error",
     "traceback": [
      "\u001b[0;36m  File \u001b[0;32m\"<ipython-input-4-b2a3c48ee1b4>\"\u001b[0;36m, line \u001b[0;32m13\u001b[0m\n\u001b[0;31m    def video_feed():\u001b[0m\n\u001b[0m      ^\u001b[0m\n\u001b[0;31mSyntaxError\u001b[0m\u001b[0;31m:\u001b[0m invalid syntax\n"
     ]
    }
   ],
   "source": [
    "app = Flask(__name__)\n",
    "#app.jinja_env.filters['b64d'] = lambda u: base64.b64encode(u).decode()\n",
    "\n",
    "@app.route('/')\n",
    "def index():\n",
    "#    return Response(my_render())\n",
    "    return render_template('showimage.html'\n",
    "#    return render_template('showimage2.html', img_data = urllib.parse.quote(buffer))\n",
    "\n",
    "\n",
    "    \n",
    "@app.route('/video_feed')\n",
    "def video_feed():\n",
    "    camera = 'KL_Malaysia'\n",
    "    return Response(work(),mimetype='multipart/x-mixed-replace; boundary=frame')\n",
    " #   return Response(bytes2display(dummy),mimetype='multipart/x-mixed-replace; boundary=frame')\n",
    "  #  return render_template(\"showimage.html\",user_image=gen2(test))\n",
    "\n",
    "\n",
    "#@app.route('/bokeh_feed1')\n",
    "#def bokeh_feed():\n",
    "#    return Response(stream_with_context(make_plot()))\n",
    "#def display_image():\n",
    "#    full_filename = \"static/SanJose_CA_1.jpg\"\n",
    "#    return render_template(\"index.html\",user_image=full_filename)\n",
    "\n"
   ]
  },
  {
   "cell_type": "code",
   "execution_count": null,
   "metadata": {
    "collapsed": true
   },
   "outputs": [],
   "source": []
  },
  {
   "cell_type": "code",
   "execution_count": null,
   "metadata": {
    "collapsed": true
   },
   "outputs": [],
   "source": []
  },
  {
   "cell_type": "code",
   "execution_count": 7,
   "metadata": {
    "collapsed": true
   },
   "outputs": [],
   "source": []
  },
  {
   "cell_type": "code",
   "execution_count": null,
   "metadata": {},
   "outputs": [
    {
     "name": "stderr",
     "output_type": "stream",
     "text": [
      " * Running on http://127.0.0.1:5000/ (Press CTRL+C to quit)\n"
     ]
    }
   ],
   "source": [
    "app.run()"
   ]
  },
  {
   "cell_type": "code",
   "execution_count": 6,
   "metadata": {},
   "outputs": [
    {
     "data": {
      "text/plain": [
       "<Response streamed [200 OK]>"
      ]
     },
     "execution_count": 6,
     "metadata": {},
     "output_type": "execute_result"
    }
   ],
   "source": [
    "Response(make_plot(),mimetype='text/csv')"
   ]
  },
  {
   "cell_type": "markdown",
   "metadata": {},
   "source": [
    "## Webserver"
   ]
  },
  {
   "cell_type": "code",
   "execution_count": null,
   "metadata": {},
   "outputs": [
    {
     "name": "stderr",
     "output_type": "stream",
     "text": [
      "Error in connection handler\n",
      "Traceback (most recent call last):\n",
      "  File \"/Users/Xiaoqing/anaconda/lib/python3.6/site-packages/websockets/server.py\", line 169, in handler\n",
      "    yield from self.ws_handler(self, path)\n",
      "  File \"<ipython-input-4-563264b0008f>\", line 40, in trigger\n",
      "    await websocket.send(json.dumps(message))\n",
      "  File \"/Users/Xiaoqing/anaconda/lib/python3.6/site-packages/websockets/protocol.py\", line 462, in send\n",
      "    yield from self.ensure_open()\n",
      "  File \"/Users/Xiaoqing/anaconda/lib/python3.6/site-packages/websockets/protocol.py\", line 646, in ensure_open\n",
      "    ) from self.transfer_data_exc\n",
      "websockets.exceptions.ConnectionClosed: WebSocket connection is closed: code = 1001 (going away), no reason\n"
     ]
    }
   ],
   "source": [
    "from itertools import cycle\n",
    "import asyncio\n",
    "import base64\n",
    "import datetime\n",
    "import json\n",
    "import random\n",
    "import websockets\n",
    "\n",
    "start = time.time()\n",
    "dummy = open(\"/Users/Xiaoqing/Insight/CV2capture/Received/SanJose_CA_1.jpg\",\"rb\").read()\n",
    "\n",
    "#IP = \"tcp://18.232.52.148:5558\"\n",
    "#IP=\"tcp://35.175.180.11:5558\"\n",
    "IP = \"tcp://34.239.152.41:5558\"\n",
    "context = zmq.Context()\n",
    "consumer_receiver = context.socket(zmq.PULL)\n",
    "consumer_receiver.connect(IP)\n",
    "     \n",
    "\n",
    "async def trigger(websocket,path):\n",
    "    while True:\n",
    "        meta_data = consumer_receiver.recv_json()\n",
    "        img_msg = consumer_receiver.recv()\n",
    "        camera_name = meta_data[\"camera\"]\n",
    "        timestamp = float(meta_data[\"time\"])-start\n",
    "        counter = int(meta_data[\"counter\"])\n",
    "        boxes = meta_data[\"boxes\"]\n",
    "                \n",
    "        buffer = base64.b64decode(img_msg)\n",
    "        img = cv2.imdecode(np.frombuffer(buffer, np.uint8),cv2.IMREAD_ANYCOLOR)\n",
    "        overlay_boxes(boxes,img)\n",
    "        img_bytes = base64.b64encode(cv2.imencode('.jpg',img)[1].tobytes())\n",
    "        img_bytes=urllib.parse.quote(img_bytes)\n",
    "        message = {          \n",
    "            \"img_b64\": img_bytes,\n",
    "            \"counter\": counter,\n",
    "            \"timestamp\":timestamp,\n",
    "            \"boxnum\": len(boxes)\n",
    "        }\n",
    "        await websocket.send(json.dumps(message))\n",
    "        await asyncio.sleep(0.02)\n",
    "\n",
    "start_server = websockets.serve(trigger, '127.0.0.1',5678)\n",
    "\n",
    "asyncio.get_event_loop().run_until_complete(start_server)\n",
    "asyncio.get_event_loop().run_forever()"
   ]
  },
  {
   "cell_type": "code",
   "execution_count": 2,
   "metadata": {
    "collapsed": true
   },
   "outputs": [],
   "source": [
    "import os\n",
    "def consumer():\n",
    "    IP = \"tcp://18.207.129.170:5560\"\n",
    "    print('consumer started...Ingest images from ', IP)\n",
    "    context = zmq.Context()\n",
    "    # recieve work\n",
    "    consumer_receiver = context.socket(zmq.PULL)\n",
    "    consumer_receiver.connect(IP)\n",
    "    receiving_dir = './received/'\n",
    "  #  if not os.path.exists(receiving_dir):\n",
    "   #     os.makedirs(receiving_dir)\n",
    "    while True:\n",
    "        meta_data = consumer_receiver.recv_json()\n",
    "        saving_path = receiving_dir+meta_data['camera']+'_'+meta_data['counter']+'.jpg'\n",
    "        message = consumer_receiver.recv()\n",
    "        with open(saving_path, 'wb') as f:\n",
    "            buff = base64.b64decode(message)\n",
    "            f.write(buff)\n",
    "        print(saving_path, \"received and saved\")\n"
   ]
  },
  {
   "cell_type": "code",
   "execution_count": null,
   "metadata": {},
   "outputs": [
    {
     "name": "stdout",
     "output_type": "stream",
     "text": [
      "consumer started...Ingest images from  tcp://18.207.129.170:5560\n",
      "./received/Richmond_VA_1.jpg received and saved\n",
      "./received/Richmond_VA_2.jpg received and saved\n",
      "./received/Richmond_VA_3.jpg received and saved\n",
      "./received/Newark_NY_1.jpg received and saved\n",
      "./received/Richmond_VA_4.jpg received and saved\n",
      "./received/Newark_NY_2.jpg received and saved\n",
      "./received/Newark_NY_3.jpg received and saved\n",
      "./received/Richmond_VA_5.jpg received and saved\n",
      "./received/Newark_NY_4.jpg received and saved\n",
      "./received/Newark_NY_5.jpg received and saved\n",
      "./received/Richmond_VA_6.jpg received and saved\n",
      "./received/Newark_NY_6.jpg received and saved\n",
      "./received/Newark_NY_7.jpg received and saved\n",
      "./received/Newark_NY_8.jpg received and saved\n",
      "./received/Richmond_VA_7.jpg received and saved\n",
      "./received/Newark_NY_9.jpg received and saved\n",
      "./received/Newark_NY_10.jpg received and saved\n",
      "./received/Newark_NY_11.jpg received and saved\n",
      "./received/Richmond_VA_8.jpg received and saved\n",
      "./received/Newark_NY_12.jpg received and saved\n",
      "./received/Newark_NY_13.jpg received and saved\n",
      "./received/Richmond_VA_9.jpg received and saved\n",
      "./received/Newark_NY_14.jpg received and saved\n",
      "./received/Newark_NY_15.jpg received and saved\n",
      "./received/Newark_NY_16.jpg received and saved\n",
      "./received/Richmond_VA_10.jpg received and saved\n",
      "./received/Newark_NY_17.jpg received and saved\n",
      "./received/Newark_NY_18.jpg received and saved\n",
      "./received/Newark_NY_19.jpg received and saved\n",
      "./received/Richmond_VA_11.jpg received and saved\n",
      "./received/Newark_NY_20.jpg received and saved\n",
      "./received/Newark_NY_21.jpg received and saved\n",
      "./received/Newark_NY_22.jpg received and saved\n",
      "./received/Newark_NY_23.jpg received and saved\n",
      "./received/Richmond_VA_12.jpg received and saved\n",
      "./received/Newark_NY_24.jpg received and saved\n",
      "./received/Newark_NY_25.jpg received and saved\n",
      "./received/Richmond_VA_13.jpg received and saved\n",
      "./received/Newark_NY_26.jpg received and saved\n",
      "./received/Newark_NY_27.jpg received and saved\n",
      "./received/Richmond_VA_14.jpg received and saved\n",
      "./received/Newark_NY_28.jpg received and saved\n",
      "./received/Newark_NY_29.jpg received and saved\n",
      "./received/Newark_NY_30.jpg received and saved\n",
      "./received/Richmond_VA_15.jpg received and saved\n",
      "./received/Newark_NY_31.jpg received and saved\n",
      "./received/Newark_NY_32.jpg received and saved\n",
      "./received/Newark_NY_33.jpg received and saved\n",
      "./received/Richmond_VA_16.jpg received and saved\n",
      "./received/Newark_NY_34.jpg received and saved\n",
      "./received/Newark_NY_35.jpg received and saved\n",
      "./received/Newark_NY_36.jpg received and saved\n",
      "./received/Richmond_VA_17.jpg received and saved\n",
      "./received/Newark_NY_37.jpg received and saved\n",
      "./received/Newark_NY_38.jpg received and saved\n",
      "./received/Richmond_VA_18.jpg received and saved\n",
      "./received/Newark_NY_39.jpg received and saved\n",
      "./received/Newark_NY_40.jpg received and saved\n",
      "./received/Newark_NY_41.jpg received and saved\n",
      "./received/Newark_NY_42.jpg received and saved\n",
      "./received/Richmond_VA_19.jpg received and saved\n",
      "./received/Newark_NY_43.jpg received and saved\n",
      "./received/Newark_NY_44.jpg received and saved\n",
      "./received/Newark_NY_45.jpg received and saved\n",
      "./received/Richmond_VA_20.jpg received and saved\n",
      "./received/Newark_NY_46.jpg received and saved\n",
      "./received/Newark_NY_47.jpg received and saved\n",
      "./received/Richmond_VA_21.jpg received and saved\n",
      "./received/Newark_NY_48.jpg received and saved\n",
      "./received/Newark_NY_49.jpg received and saved\n",
      "./received/Richmond_VA_22.jpg received and saved\n",
      "./received/Newark_NY_50.jpg received and saved\n",
      "./received/Newark_NY_51.jpg received and saved\n",
      "./received/Newark_NY_52.jpg received and saved\n",
      "./received/Richmond_VA_23.jpg received and saved\n",
      "./received/Newark_NY_53.jpg received and saved\n",
      "./received/Newark_NY_54.jpg received and saved\n",
      "./received/Newark_NY_55.jpg received and saved\n",
      "./received/Newark_NY_56.jpg received and saved\n",
      "./received/Richmond_VA_24.jpg received and saved\n",
      "./received/Newark_NY_57.jpg received and saved\n",
      "./received/Newark_NY_58.jpg received and saved\n",
      "./received/Richmond_VA_25.jpg received and saved\n",
      "./received/Newark_NY_59.jpg received and saved\n",
      "./received/Newark_NY_60.jpg received and saved\n",
      "./received/Newark_NY_61.jpg received and saved\n",
      "./received/Richmond_VA_26.jpg received and saved\n",
      "./received/Newark_NY_62.jpg received and saved\n",
      "./received/Newark_NY_63.jpg received and saved\n",
      "./received/Newark_NY_64.jpg received and saved\n",
      "./received/Richmond_VA_27.jpg received and saved\n",
      "./received/Newark_NY_65.jpg received and saved\n",
      "./received/Newark_NY_66.jpg received and saved\n",
      "./received/Richmond_VA_28.jpg received and saved\n",
      "./received/Newark_NY_67.jpg received and saved\n",
      "./received/Newark_NY_68.jpg received and saved\n",
      "./received/Newark_NY_69.jpg received and saved\n",
      "./received/Richmond_VA_29.jpg received and saved\n",
      "./received/Newark_NY_70.jpg received and saved\n",
      "./received/Newark_NY_71.jpg received and saved\n",
      "./received/Newark_NY_72.jpg received and saved\n",
      "./received/Richmond_VA_30.jpg received and saved\n",
      "./received/Newark_NY_73.jpg received and saved\n",
      "./received/Newark_NY_74.jpg received and saved\n",
      "./received/Newark_NY_75.jpg received and saved\n",
      "./received/Richmond_VA_31.jpg received and saved\n",
      "./received/Newark_NY_76.jpg received and saved\n",
      "./received/Richmond_VA_32.jpg received and saved\n",
      "./received/Newark_NY_77.jpg received and saved\n",
      "./received/Newark_NY_78.jpg received and saved\n",
      "./received/Newark_NY_79.jpg received and saved\n",
      "./received/Richmond_VA_33.jpg received and saved\n",
      "./received/Newark_NY_80.jpg received and saved\n",
      "./received/Newark_NY_81.jpg received and saved\n",
      "./received/Newark_NY_82.jpg received and saved\n",
      "./received/Richmond_VA_34.jpg received and saved\n",
      "./received/Newark_NY_83.jpg received and saved\n",
      "./received/Newark_NY_84.jpg received and saved\n",
      "./received/Richmond_VA_35.jpg received and saved\n",
      "./received/Newark_NY_85.jpg received and saved\n",
      "./received/Newark_NY_86.jpg received and saved\n",
      "./received/Newark_NY_87.jpg received and saved\n",
      "./received/Richmond_VA_36.jpg received and saved\n",
      "./received/Newark_NY_88.jpg received and saved\n",
      "./received/Newark_NY_89.jpg received and saved\n",
      "./received/Newark_NY_90.jpg received and saved\n",
      "./received/Richmond_VA_37.jpg received and saved\n",
      "./received/Newark_NY_91.jpg received and saved\n",
      "./received/Newark_NY_92.jpg received and saved\n",
      "./received/Richmond_VA_38.jpg received and saved\n",
      "./received/Newark_NY_93.jpg received and saved\n",
      "./received/Newark_NY_94.jpg received and saved\n",
      "./received/Newark_NY_95.jpg received and saved\n",
      "./received/Richmond_VA_39.jpg received and saved\n",
      "./received/Newark_NY_96.jpg received and saved\n",
      "./received/Newark_NY_97.jpg received and saved\n",
      "./received/Newark_NY_98.jpg received and saved\n",
      "./received/Richmond_VA_40.jpg received and saved\n",
      "./received/Newark_NY_99.jpg received and saved\n",
      "./received/Newark_NY_100.jpg received and saved\n",
      "./received/Richmond_VA_41.jpg received and saved\n",
      "./received/Richmond_VA_42.jpg received and saved\n",
      "./received/Richmond_VA_43.jpg received and saved\n",
      "./received/Richmond_VA_44.jpg received and saved\n",
      "./received/Richmond_VA_45.jpg received and saved\n",
      "./received/Richmond_VA_46.jpg received and saved\n",
      "./received/Richmond_VA_47.jpg received and saved\n",
      "./received/Richmond_VA_48.jpg received and saved\n",
      "./received/Richmond_VA_49.jpg received and saved\n",
      "./received/Richmond_VA_50.jpg received and saved\n",
      "./received/Richmond_VA_51.jpg received and saved\n",
      "./received/Richmond_VA_52.jpg received and saved\n",
      "./received/Richmond_VA_53.jpg received and saved\n",
      "./received/Richmond_VA_54.jpg received and saved\n",
      "./received/Richmond_VA_55.jpg received and saved\n",
      "./received/Richmond_VA_56.jpg received and saved\n",
      "./received/Richmond_VA_57.jpg received and saved\n",
      "./received/Richmond_VA_58.jpg received and saved\n",
      "./received/Richmond_VA_59.jpg received and saved\n",
      "./received/Richmond_VA_60.jpg received and saved\n",
      "./received/Richmond_VA_61.jpg received and saved\n",
      "./received/Richmond_VA_62.jpg received and saved\n",
      "./received/Richmond_VA_63.jpg received and saved\n",
      "./received/Richmond_VA_64.jpg received and saved\n",
      "./received/Richmond_VA_65.jpg received and saved\n",
      "./received/Richmond_VA_66.jpg received and saved\n",
      "./received/Richmond_VA_67.jpg received and saved\n",
      "./received/Richmond_VA_68.jpg received and saved\n",
      "./received/Richmond_VA_69.jpg received and saved\n",
      "./received/Richmond_VA_70.jpg received and saved\n",
      "./received/Richmond_VA_71.jpg received and saved\n"
     ]
    },
    {
     "name": "stdout",
     "output_type": "stream",
     "text": [
      "./received/Richmond_VA_72.jpg received and saved\n",
      "./received/Richmond_VA_73.jpg received and saved\n",
      "./received/Richmond_VA_74.jpg received and saved\n",
      "./received/Richmond_VA_75.jpg received and saved\n",
      "./received/Richmond_VA_76.jpg received and saved\n",
      "./received/Richmond_VA_77.jpg received and saved\n",
      "./received/Richmond_VA_78.jpg received and saved\n",
      "./received/Richmond_VA_79.jpg received and saved\n",
      "./received/Richmond_VA_80.jpg received and saved\n",
      "./received/Richmond_VA_81.jpg received and saved\n",
      "./received/Richmond_VA_82.jpg received and saved\n",
      "./received/Richmond_VA_83.jpg received and saved\n",
      "./received/Richmond_VA_84.jpg received and saved\n",
      "./received/Richmond_VA_85.jpg received and saved\n",
      "./received/Richmond_VA_86.jpg received and saved\n",
      "./received/Richmond_VA_87.jpg received and saved\n",
      "./received/Richmond_VA_88.jpg received and saved\n",
      "./received/Richmond_VA_89.jpg received and saved\n",
      "./received/Richmond_VA_90.jpg received and saved\n",
      "./received/Richmond_VA_91.jpg received and saved\n",
      "./received/Richmond_VA_92.jpg received and saved\n",
      "./received/Richmond_VA_93.jpg received and saved\n",
      "./received/Richmond_VA_94.jpg received and saved\n",
      "./received/Richmond_VA_95.jpg received and saved\n",
      "./received/Richmond_VA_96.jpg received and saved\n",
      "./received/Richmond_VA_97.jpg received and saved\n",
      "./received/Richmond_VA_98.jpg received and saved\n",
      "./received/Richmond_VA_99.jpg received and saved\n",
      "./received/Richmond_VA_100.jpg received and saved\n"
     ]
    }
   ],
   "source": [
    "consumer()"
   ]
  },
  {
   "cell_type": "code",
   "execution_count": 6,
   "metadata": {},
   "outputs": [
    {
     "ename": "ZMQError",
     "evalue": "No such file or directory",
     "output_type": "error",
     "traceback": [
      "\u001b[0;31m---------------------------------------------------------------------------\u001b[0m",
      "\u001b[0;31mZMQError\u001b[0m                                  Traceback (most recent call last)",
      "\u001b[0;32m<ipython-input-6-65cb7f39fbfc>\u001b[0m in \u001b[0;36m<module>\u001b[0;34m()\u001b[0m\n\u001b[0;32m----> 1\u001b[0;31m \u001b[0mconsumer_receiver\u001b[0m\u001b[0;34m.\u001b[0m\u001b[0munbind\u001b[0m\u001b[0;34m(\u001b[0m\u001b[0mIP\u001b[0m\u001b[0;34m)\u001b[0m\u001b[0;34m\u001b[0m\u001b[0;34m\u001b[0m\u001b[0m\n\u001b[0m",
      "\u001b[0;32mzmq/backend/cython/socket.pyx\u001b[0m in \u001b[0;36mzmq.backend.cython.socket.Socket.unbind (zmq/backend/cython/socket.c:6290)\u001b[0;34m()\u001b[0m\n",
      "\u001b[0;31mZMQError\u001b[0m: No such file or directory"
     ]
    }
   ],
   "source": [
    "consumer_receiver.unbind(IP)"
   ]
  },
  {
   "cell_type": "code",
   "execution_count": 3,
   "metadata": {},
   "outputs": [
    {
     "data": {
      "text/plain": [
       "'/Users/Xiaoqing/Insight/Raven/flask/flask_app'"
      ]
     },
     "execution_count": 3,
     "metadata": {},
     "output_type": "execute_result"
    }
   ],
   "source": [
    "os.getcwd()"
   ]
  },
  {
   "cell_type": "code",
   "execution_count": 5,
   "metadata": {},
   "outputs": [
    {
     "data": {
      "text/plain": [
       "'17:22:44'"
      ]
     },
     "execution_count": 5,
     "metadata": {},
     "output_type": "execute_result"
    }
   ],
   "source": [
    "import time\n",
    "time.strftime(\"%H:%M:%S\",time.localtime(time.time()))"
   ]
  },
  {
   "cell_type": "code",
   "execution_count": 6,
   "metadata": {},
   "outputs": [
    {
     "data": {
      "text/plain": [
       "time.struct_time(tm_year=2019, tm_mon=2, tm_mday=10, tm_hour=17, tm_min=22, tm_sec=50, tm_wday=6, tm_yday=41, tm_isdst=0)"
      ]
     },
     "execution_count": 6,
     "metadata": {},
     "output_type": "execute_result"
    }
   ],
   "source": [
    "time.localtime(time.time())"
   ]
  },
  {
   "cell_type": "code",
   "execution_count": 14,
   "metadata": {},
   "outputs": [
    {
     "data": {
      "text/plain": [
       "8760"
      ]
     },
     "execution_count": 14,
     "metadata": {},
     "output_type": "execute_result"
    }
   ],
   "source": [
    "24*365"
   ]
  },
  {
   "cell_type": "code",
   "execution_count": 25,
   "metadata": {},
   "outputs": [
    {
     "data": {
      "text/plain": [
       "'1550099287464'"
      ]
     },
     "execution_count": 25,
     "metadata": {},
     "output_type": "execute_result"
    }
   ],
   "source": [
    "str(int(time.time()*1000))"
   ]
  },
  {
   "cell_type": "code",
   "execution_count": 26,
   "metadata": {},
   "outputs": [
    {
     "data": {
      "text/plain": [
       "1550099287464"
      ]
     },
     "execution_count": 26,
     "metadata": {},
     "output_type": "execute_result"
    }
   ],
   "source": [
    "int('1550099287464')"
   ]
  },
  {
   "cell_type": "code",
   "execution_count": null,
   "metadata": {
    "collapsed": true
   },
   "outputs": [],
   "source": []
  }
 ],
 "metadata": {
  "kernelspec": {
   "display_name": "Python 3",
   "language": "python",
   "name": "python3"
  },
  "language_info": {
   "codemirror_mode": {
    "name": "ipython",
    "version": 3
   },
   "file_extension": ".py",
   "mimetype": "text/x-python",
   "name": "python",
   "nbconvert_exporter": "python",
   "pygments_lexer": "ipython3",
   "version": "3.6.8"
  }
 },
 "nbformat": 4,
 "nbformat_minor": 2
}
